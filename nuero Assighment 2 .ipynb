{
 "cells": [
  {
   "cell_type": "code",
   "execution_count": 1,
   "id": "7d471452",
   "metadata": {},
   "outputs": [],
   "source": [
    "import numpy as np"
   ]
  },
  {
   "cell_type": "code",
   "execution_count": 8,
   "id": "b0d11a13",
   "metadata": {},
   "outputs": [],
   "source": [
    "def sigmoid(x):\n",
    "    return 1 / (1 + np.exp(-x))\n",
    "\n",
    "def sigmoid_derivative(x):\n",
    "    return x * (1 - x)"
   ]
  },
  {
   "cell_type": "code",
   "execution_count": 9,
   "id": "75d1adfc",
   "metadata": {},
   "outputs": [],
   "source": [
    "inputs = np.array([0.05, 0.10])\n",
    "\n",
    "targets = np.array([0.01, 0.99])\n",
    "\n",
    "w1, w2, w3, w4 = 0.15, 0.20, 0.25, 0.30\n",
    "\n",
    "w5, w6, w7, w8 = 0.40, 0.45, 0.50, 0.55\n",
    "\n",
    "b1, b2 = 0.35, 0.60\n",
    "\n",
    "lr = 0.5"
   ]
  },
  {
   "cell_type": "code",
   "execution_count": 10,
   "id": "4de25f4e",
   "metadata": {},
   "outputs": [],
   "source": [
    "def forward_pass(inputs, w1, w2, w3, w4, w5, w6, w7, w8, b1, b2):\n",
    "    # Hidden \n",
    "    net_h1 = w1 * inputs[0] + w3 * inputs[1] + b1\n",
    "    out_h1 = sigmoid(net_h1)\n",
    "    \n",
    "    net_h2 = w2 * inputs[0] + w4 * inputs[1] + b1\n",
    "    out_h2 = sigmoid(net_h2)\n",
    "    \n",
    "    # Output \n",
    "    net_o1 = w5 * out_h1 + w7 * out_h2 + b2\n",
    "    out_o1 = sigmoid(net_o1)\n",
    "    \n",
    "    net_o2 = w6 * out_h1 + w8 * out_h2 + b2\n",
    "    out_o2 = sigmoid(net_o2)\n",
    "    \n",
    "    return out_h1, out_h2, out_o1, out_o2"
   ]
  },
  {
   "cell_type": "code",
   "execution_count": 11,
   "id": "57ed5823",
   "metadata": {},
   "outputs": [],
   "source": [
    "def backward_pass(inputs, targets, out_h1, out_h2, out_o1, out_o2, w1, w2, w3, w4, w5, w6, w7, w8, b1, b2, lr):\n",
    "    error_o1 = out_o1 - targets[0]\n",
    "    error_o2 = out_o2 - targets[1]\n",
    "    \n",
    "    grad_o1 = error_o1 * sigmoid_derivative(out_o1)\n",
    "    grad_o2 = error_o2 * sigmoid_derivative(out_o2)\n",
    "    \n",
    "    w5_new = w5 - lr * grad_o1 * out_h1\n",
    "    w6_new = w6 - lr * grad_o2 * out_h1\n",
    "    w7_new = w7 - lr * grad_o1 * out_h2\n",
    "    w8_new = w8 - lr * grad_o2 * out_h2\n",
    "    \n",
    "    error_h1 = (grad_o1 * w5 + grad_o2 * w6) * sigmoid_derivative(out_h1)\n",
    "    error_h2 = (grad_o1 * w7 + grad_o2 * w8) * sigmoid_derivative(out_h2)\n",
    "    \n",
    "    w1_new = w1 - lr * error_h1 * inputs[0]\n",
    "    w2_new = w2 - lr * error_h2 * inputs[0]\n",
    "    w3_new = w3 - lr * error_h1 * inputs[1]\n",
    "    w4_new = w4 - lr * error_h2 * inputs[1]\n",
    "    \n",
    "    return w1_new, w2_new, w3_new, w4_new, w5_new, w6_new, w7_new, w8_new"
   ]
  },
  {
   "cell_type": "code",
   "execution_count": 12,
   "id": "d3e66032",
   "metadata": {},
   "outputs": [
    {
     "name": "stdout",
     "output_type": "stream",
     "text": [
      "Epoch 0, Error: 0.303658313630144\n",
      "Epoch 1000, Error: 0.0011149089105893545\n",
      "Epoch 2000, Error: 0.00044472849635771906\n",
      "Epoch 3000, Error: 0.00025136556420121003\n",
      "Epoch 4000, Error: 0.00016414373654686696\n",
      "Epoch 5000, Error: 0.00011611605086479562\n",
      "Epoch 6000, Error: 8.644925601714257e-05\n",
      "Epoch 7000, Error: 6.669394288040873e-05\n",
      "Epoch 8000, Error: 5.282161247747641e-05\n",
      "Epoch 9000, Error: 4.2687649304120094e-05\n"
     ]
    }
   ],
   "source": [
    "epochs = 10000\n",
    "for epoch in range(epochs):\n",
    "    # Forward\n",
    "    out_h1, out_h2, out_o1, out_o2 = forward_pass(inputs, w1, w2, w3, w4, w5, w6, w7, w8, b1, b2)\n",
    "    \n",
    "    w1, w2, w3, w4, w5, w6, w7, w8 = backward_pass(inputs, targets, out_h1, out_h2, out_o1, out_o2, w1, w2, w3, w4, w5, w6, w7, w8, b1, b2, lr)\n",
    "    \n",
    "    #  error every 1000 epoch\n",
    "    if epoch % 1000 == 0:\n",
    "        total_error = 0.5 * ((targets[0] - out_o1) ** 2 + (targets[1] - out_o2) ** 2)\n",
    "        print(f\"Epoch {epoch}, Error: {total_error}\")"
   ]
  },
  {
   "cell_type": "code",
   "execution_count": 13,
   "id": "1432a48a",
   "metadata": {},
   "outputs": [
    {
     "name": "stdout",
     "output_type": "stream",
     "text": [
      "Final Outputs: Output 1 = 0.015909242802676728, Output 2 = 0.9840678539474472\n"
     ]
    }
   ],
   "source": [
    "out_h1, out_h2, out_o1, out_o2 = forward_pass(inputs, w1, w2, w3, w4, w5, w6, w7, w8, b1, b2)\n",
    "print(f\"Final Outputs: Output 1 = {out_o1}, Output 2 = {out_o2}\")"
   ]
  },
  {
   "cell_type": "code",
   "execution_count": null,
   "id": "603eb4ba",
   "metadata": {},
   "outputs": [],
   "source": []
  }
 ],
 "metadata": {
  "kernelspec": {
   "display_name": "Python 3 (ipykernel)",
   "language": "python",
   "name": "python3"
  },
  "language_info": {
   "codemirror_mode": {
    "name": "ipython",
    "version": 3
   },
   "file_extension": ".py",
   "mimetype": "text/x-python",
   "name": "python",
   "nbconvert_exporter": "python",
   "pygments_lexer": "ipython3",
   "version": "3.11.5"
  }
 },
 "nbformat": 4,
 "nbformat_minor": 5
}
