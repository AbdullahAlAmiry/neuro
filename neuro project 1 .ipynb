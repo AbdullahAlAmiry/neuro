{
 "cells": [
  {
   "cell_type": "code",
   "execution_count": 25,
   "id": "be5e2956",
   "metadata": {},
   "outputs": [],
   "source": [
    "import random"
   ]
  },
  {
   "cell_type": "code",
   "execution_count": 26,
   "id": "b1585c6f",
   "metadata": {},
   "outputs": [],
   "source": [
    "def tanh_activation(x):\n",
    "    return (2 / (1 + 2.718281828459045 ** (-2 * x))) - 1"
   ]
  },
  {
   "cell_type": "code",
   "execution_count": 27,
   "id": "386a9605",
   "metadata": {},
   "outputs": [],
   "source": [
    "def create_weights(size):\n",
    "    return [random.uniform(-0.5, 0.5) for _ in range(size)]"
   ]
  },
  {
   "cell_type": "code",
   "execution_count": 28,
   "id": "84e7a27d",
   "metadata": {},
   "outputs": [],
   "source": [
    "input_nodes = 2\n",
    "hidden_nodes = 3\n",
    "output_nodes = 1\n",
    "\n",
    "weights_input_to_hidden = create_weights(input_nodes * hidden_nodes)\n",
    "weights_hidden_to_output = create_weights(hidden_nodes * output_nodes)\n",
    "\n",
    "bias_hidden = 0.5\n",
    "bias_output = 0.7"
   ]
  },
  {
   "cell_type": "code",
   "execution_count": 29,
   "id": "57fbaffd",
   "metadata": {},
   "outputs": [],
   "source": [
    "def compute_output(input_values):\n",
    "    hidden_layer = []\n",
    "    for i in range(hidden_nodes):\n",
    "        weighted_sum = sum(input_values[j] * weights_input_to_hidden[i * input_nodes + j] for j in range(input_nodes))\n",
    "        hidden_layer.append(tanh(weighted_sum + bias_hidden))\n",
    "    \n",
    "    output = 0\n",
    "    for i in range(output_nodes):\n",
    "        weighted_sum = sum(hidden_layer[j] * weights_hidden_to_output[i * hidden_nodes + j] for j in range(hidden_nodes))\n",
    "        output = tanh(weighted_sum + bias_output)\n",
    "    \n",
    "    return output"
   ]
  },
  {
   "cell_type": "code",
   "execution_count": 30,
   "id": "f5846489",
   "metadata": {},
   "outputs": [
    {
     "name": "stdout",
     "output_type": "stream",
     "text": [
      "Network Output: 0.560236484152282\n"
     ]
    }
   ],
   "source": [
    "example_input = [0.67, -0.6]\n",
    "network_output = forward_pass(example_input)\n",
    "print(\"Network Output:\", network_output)"
   ]
  },
  {
   "cell_type": "code",
   "execution_count": null,
   "id": "9319b261",
   "metadata": {},
   "outputs": [],
   "source": []
  },
  {
   "cell_type": "code",
   "execution_count": null,
   "id": "c15a13c0",
   "metadata": {},
   "outputs": [],
   "source": []
  }
 ],
 "metadata": {
  "kernelspec": {
   "display_name": "Python 3 (ipykernel)",
   "language": "python",
   "name": "python3"
  },
  "language_info": {
   "codemirror_mode": {
    "name": "ipython",
    "version": 3
   },
   "file_extension": ".py",
   "mimetype": "text/x-python",
   "name": "python",
   "nbconvert_exporter": "python",
   "pygments_lexer": "ipython3",
   "version": "3.11.5"
  }
 },
 "nbformat": 4,
 "nbformat_minor": 5
}
